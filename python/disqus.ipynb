{
 "cells": [
  {
   "cell_type": "markdown",
   "metadata": {},
   "source": [
    "Disqus\n",
    "======\n",
    "\n",
    "- https://disqus.com/api/docs/requests/\n",
    "\n",
    "Constructing Requests\n",
    "\n",
    "Requests are made of three components:\n",
    "\n",
    "    API version\n",
    "    Resource path\n",
    "    Output type\n",
    "\n",
    "To construct a proper request, you will need to format the URI as follows:\n",
    "\n",
    "https://disqus.com/api/{version}/{resource}.{output_type}\n",
    "\n",
    "An example request, to fetch a list of posts on a forum might be:\n",
    "\n",
    "https://disqus.com/api/3.0/forums/listPosts.json?forum=disqus"
   ]
  },
  {
   "cell_type": "markdown",
   "metadata": {},
   "source": [
    "Authentication\n",
    "--------------\n",
    "\n",
    "- Secret Key: a2SOi6pc5pJSbHsMTP2EekxnbTtSIygYq1BU8aQBbnAyfHwhuhaUZQWJ5CMHVfBr\n",
    "\n",
    "- Public Key: N6T89OylJj7sP3NGjkMNtqQkbdsZT6LjXpJf4LGCbFcVros2RhaesPsZ7iPiUmgg\n",
    "\n",
    "- Domains: nedlaw.eu, disqus.com "
   ]
  },
  {
   "cell_type": "markdown",
   "metadata": {},
   "source": [
    "Links\n",
    "-----\n",
    "\n",
    "- https://github.com/disqus/DISQUS-API-Recipes/ - git cookbook\n",
    "- https://help.disqus.com/customer/en/portal/articles/1131785-available-public-api-data - available public data\n",
    "\n",
    "Disqus module problem\n",
    "\n",
    "- https://github.com/mishbahr/djangocms-disqus/issues/1\n",
    "- https://github.com/disqus/disqus-python\n",
    "\n",
    "available user details\n",
    "- https://disqus.com/api/docs/users/\n",
    "\n",
    "exameple string\n",
    "- https://disqus.com/api/3.0/forums/listPosts.json?forum=disqus\n",
    "- https://disqus.com/api/3.0/trends/listThreads.json?api_key=API_PUBLIC_KEY_HERE&callback=foo\""
   ]
  },
  {
   "cell_type": "code",
   "execution_count": 16,
   "metadata": {
    "collapsed": false
   },
   "outputs": [],
   "source": [
    "from disqusapi import DisqusAPI\n",
    "\n",
    "secret_key = 'a2SOi6pc5pJSbHsMTP2EekxnbTtSIygYq1BU8aQBbnAyfHwhuhaUZQWJ5CMHVfBr'\n",
    "public_key = 'N6T89OylJj7sP3NGjkMNtqQkbdsZT6LjXpJf4LGCbFcVros2RhaesPsZ7iPiUmgg'\n",
    "access = '5b856d561154418cb6c4619f9816f3d0'\n",
    "\n",
    "disqus = DisqusAPI(secret_key, public_key)"
   ]
  },
  {
   "cell_type": "code",
   "execution_count": 22,
   "metadata": {
    "collapsed": false,
    "scrolled": false
   },
   "outputs": [],
   "source": [
    "import base64\n",
    "import hashlib\n",
    "import hmac\n",
    "import simplejson\n",
    "import time\n",
    " \n",
    "DISQUS_SECRET_KEY = 'a2SOi6pc5pJSbHsMTP2EekxnbTtSIygYq1BU8aQBbnAyfHwhuhaUZQWJ5CMHVfBr'\n",
    "DISQUS_PUBLIC_KEY = 'N6T89OylJj7sP3NGjkMNtqQkbdsZT6LjXpJf4LGCbFcVros2RhaesPsZ7iPiUmgg'\n",
    "\n",
    "userName = 'Maquirer'\n",
    "email = 'markus.antero.walden@gmail.com'\n",
    "ids = 'maguire'"
   ]
  },
  {
   "cell_type": "code",
   "execution_count": 35,
   "metadata": {
    "collapsed": true
   },
   "outputs": [],
   "source": [
    "def get_disqus_sso(user):\n",
    "    # create a JSON packet of our data attributes\n",
    "    data = simplejson.dumps({\n",
    "        'id': user['id'],\n",
    "        'username': user['username'],\n",
    "        'email': user['email'],\n",
    "    })\n",
    "    print (data)\n",
    "    # encode the data to base64\n",
    "    message = base64.b64encode(data)\n",
    "    # generate a timestamp for signing the message\n",
    "    timestamp = int(time.time())\n",
    "    # generate our hmac signature\n",
    "    sig = hmac.HMAC(DISQUS_SECRET_KEY, '%s %s' % (message, timestamp), hashlib.sha1).hexdigest()\n",
    " \n",
    "    # return a script tag to insert the sso message\n",
    "    return \"\"\"<script type=\"text/javascript\">\n",
    "    var disqus_config = function() {\n",
    "        this.page.remote_auth_s3 = \"%(message)s %(sig)s %(timestamp)s\";\n",
    "        this.page.api_key = \"%(pub_key)s\";\n",
    "    }\n",
    "    </script>\"\"\" % dict(\n",
    "        message=message,\n",
    "        timestamp=timestamp,\n",
    "        sig=sig,\n",
    "        pub_key=DISQUS_PUBLIC_KEY,\n",
    "    )"
   ]
  },
  {
   "cell_type": "code",
   "execution_count": 36,
   "metadata": {
    "collapsed": false
   },
   "outputs": [
    {
     "name": "stdout",
     "output_type": "stream",
     "text": [
      "{\"id\": \"maguire\", \"email\": \"markus.antero.walden@gmail.com\", \"username\": \"Maquirer\"}\n"
     ]
    },
    {
     "ename": "TypeError",
     "evalue": "a bytes-like object is required, not 'str'",
     "output_type": "error",
     "traceback": [
      "\u001b[0;31m---------------------------------------------------------------------------\u001b[0m",
      "\u001b[0;31mTypeError\u001b[0m                                 Traceback (most recent call last)",
      "\u001b[0;32m<ipython-input-36-7fd4ca8a9646>\u001b[0m in \u001b[0;36m<module>\u001b[0;34m()\u001b[0m\n\u001b[1;32m      1\u001b[0m \u001b[0muser\u001b[0m \u001b[1;33m=\u001b[0m \u001b[1;33m{\u001b[0m\u001b[1;34m'id'\u001b[0m\u001b[1;33m:\u001b[0m \u001b[0mids\u001b[0m\u001b[1;33m,\u001b[0m \u001b[1;34m'username'\u001b[0m\u001b[1;33m:\u001b[0m \u001b[0muserName\u001b[0m \u001b[1;33m,\u001b[0m \u001b[1;34m'email'\u001b[0m\u001b[1;33m:\u001b[0m \u001b[0memail\u001b[0m\u001b[1;33m}\u001b[0m\u001b[1;33m\u001b[0m\u001b[0m\n\u001b[0;32m----> 2\u001b[0;31m \u001b[0mt\u001b[0m \u001b[1;33m=\u001b[0m \u001b[0mget_disqus_sso\u001b[0m\u001b[1;33m(\u001b[0m\u001b[0muser\u001b[0m\u001b[1;33m)\u001b[0m\u001b[1;33m\u001b[0m\u001b[0m\n\u001b[0m\u001b[1;32m      3\u001b[0m \u001b[1;33m\u001b[0m\u001b[0m\n\u001b[1;32m      4\u001b[0m \u001b[0mprint\u001b[0m \u001b[1;33m(\u001b[0m\u001b[0mt\u001b[0m\u001b[1;33m)\u001b[0m\u001b[1;33m\u001b[0m\u001b[0m\n",
      "\u001b[0;32m<ipython-input-35-4b1410fb2f03>\u001b[0m in \u001b[0;36mget_disqus_sso\u001b[0;34m(user)\u001b[0m\n\u001b[1;32m      8\u001b[0m     \u001b[0mprint\u001b[0m \u001b[1;33m(\u001b[0m\u001b[0mdata\u001b[0m\u001b[1;33m)\u001b[0m\u001b[1;33m\u001b[0m\u001b[0m\n\u001b[1;32m      9\u001b[0m     \u001b[1;31m# encode the data to base64\u001b[0m\u001b[1;33m\u001b[0m\u001b[1;33m\u001b[0m\u001b[0m\n\u001b[0;32m---> 10\u001b[0;31m     \u001b[0mmessage\u001b[0m \u001b[1;33m=\u001b[0m \u001b[0mbase64\u001b[0m\u001b[1;33m.\u001b[0m\u001b[0mb64encode\u001b[0m\u001b[1;33m(\u001b[0m\u001b[0mdata\u001b[0m\u001b[1;33m)\u001b[0m\u001b[1;33m\u001b[0m\u001b[0m\n\u001b[0m\u001b[1;32m     11\u001b[0m     \u001b[1;31m# generate a timestamp for signing the message\u001b[0m\u001b[1;33m\u001b[0m\u001b[1;33m\u001b[0m\u001b[0m\n\u001b[1;32m     12\u001b[0m     \u001b[0mtimestamp\u001b[0m \u001b[1;33m=\u001b[0m \u001b[0mint\u001b[0m\u001b[1;33m(\u001b[0m\u001b[0mtime\u001b[0m\u001b[1;33m.\u001b[0m\u001b[0mtime\u001b[0m\u001b[1;33m(\u001b[0m\u001b[1;33m)\u001b[0m\u001b[1;33m)\u001b[0m\u001b[1;33m\u001b[0m\u001b[0m\n",
      "\u001b[0;32mC:\\python3\\lib\\base64.py\u001b[0m in \u001b[0;36mb64encode\u001b[0;34m(s, altchars)\u001b[0m\n\u001b[1;32m     57\u001b[0m     \"\"\"\n\u001b[1;32m     58\u001b[0m     \u001b[1;31m# Strip off the trailing newline\u001b[0m\u001b[1;33m\u001b[0m\u001b[1;33m\u001b[0m\u001b[0m\n\u001b[0;32m---> 59\u001b[0;31m     \u001b[0mencoded\u001b[0m \u001b[1;33m=\u001b[0m \u001b[0mbinascii\u001b[0m\u001b[1;33m.\u001b[0m\u001b[0mb2a_base64\u001b[0m\u001b[1;33m(\u001b[0m\u001b[0ms\u001b[0m\u001b[1;33m)\u001b[0m\u001b[1;33m[\u001b[0m\u001b[1;33m:\u001b[0m\u001b[1;33m-\u001b[0m\u001b[1;36m1\u001b[0m\u001b[1;33m]\u001b[0m\u001b[1;33m\u001b[0m\u001b[0m\n\u001b[0m\u001b[1;32m     60\u001b[0m     \u001b[1;32mif\u001b[0m \u001b[0maltchars\u001b[0m \u001b[1;32mis\u001b[0m \u001b[1;32mnot\u001b[0m \u001b[1;32mNone\u001b[0m\u001b[1;33m:\u001b[0m\u001b[1;33m\u001b[0m\u001b[0m\n\u001b[1;32m     61\u001b[0m         \u001b[1;32massert\u001b[0m \u001b[0mlen\u001b[0m\u001b[1;33m(\u001b[0m\u001b[0maltchars\u001b[0m\u001b[1;33m)\u001b[0m \u001b[1;33m==\u001b[0m \u001b[1;36m2\u001b[0m\u001b[1;33m,\u001b[0m \u001b[0mrepr\u001b[0m\u001b[1;33m(\u001b[0m\u001b[0maltchars\u001b[0m\u001b[1;33m)\u001b[0m\u001b[1;33m\u001b[0m\u001b[0m\n",
      "\u001b[0;31mTypeError\u001b[0m: a bytes-like object is required, not 'str'"
     ]
    }
   ],
   "source": [
    "user = {'id': ids, 'username': userName , 'email': email}\n",
    "t = get_disqus_sso(user)\n",
    "\n",
    "print (t)"
   ]
  },
  {
   "cell_type": "markdown",
   "metadata": {},
   "source": [
    "\n",
    "- https://github.com/disqus/DISQUS-API-Recipes/blob/master/oauth/python/oauth_example.py\n"
   ]
  },
  {
   "cell_type": "code",
   "execution_count": null,
   "metadata": {
    "collapsed": true
   },
   "outputs": [],
   "source": [
    "from flask import session\n",
    "from flask import redirect\n",
    "from flask import url_for\n",
    "from flask import escape\n",
    "from flask import request\n",
    "\n",
    "import functools\n",
    "import simplejson\n",
    "import urllib\n",
    "\n",
    "from disqusapi import InvalidAccessToken\n",
    "from disqusapi import DisqusAPI"
   ]
  },
  {
   "cell_type": "code",
   "execution_count": 11,
   "metadata": {
    "collapsed": false
   },
   "outputs": [],
   "source": [
    "class User(object):\n",
    "    \"\"\"User object based on disqus auth token\"\"\"\n",
    "    def __init__(self, username, user_id, access_token, expires_in, token_type, refresh_token):\n",
    "        super(User, self).__init__()\n",
    "        self.username = username\n",
    "        self.user_id = user_id\n",
    "        self.access_token = access_token\n",
    "        self.expires_in = expires_in\n",
    "        self.token_type = token_type\n",
    "        self.refresh_token = refresh_token\n",
    "\n",
    "    def __repr__(self):\n",
    "        return \"<{username}:{access_token}>\".format(**self.__dict__)\n",
    "\n",
    "\n",
    "def current_user():\n",
    "    cu = None\n",
    "    if 'auth' in session:\n",
    "        auth = session['auth']\n",
    "        cu = User(**auth)\n",
    "    return cu"
   ]
  },
  {
   "cell_type": "code",
   "execution_count": 26,
   "metadata": {
    "collapsed": false
   },
   "outputs": [],
   "source": [
    "from flask import Flask\n",
    "app = Flask(__name__)\n",
    "\n",
    "app.secret_key = \"this is my salt\"\n",
    "DISQUS_SECRET_KEY = 'a2SOi6pc5pJSbHsMTP2EekxnbTtSIygYq1BU8aQBbnAyfHwhuhaUZQWJ5CMHVfBr'\n",
    "DISQUS_PUBLIC_KEY = 'N6T89OylJj7sP3NGjkMNtqQkbdsZT6LjXpJf4LGCbFcVros2RhaesPsZ7iPiUmgg'\n",
    "\n",
    "userName = 'Maquirer'\n",
    "email = 'markus.antero.walden@gmail.com'\n",
    "ids = 'maguire'\n",
    "\n",
    "@app.route(\"/\")\n",
    "def hello(userName):\n",
    "    cu = current_user()\n",
    "    if cu:\n",
    "        return 'Logged in as %s' % escape(session[userName])\n",
    "    else:\n",
    "        return redirect('/oauth/authorize/')\n",
    "\n",
    "\n",
    "@app.route(\"/bye\")\n",
    "def goodbye():\n",
    "    return \"Goodbye World!\"\n",
    "\n",
    "\n",
    "@app.route(\"/foo/<int:bar>/<baz>\")\n",
    "def foobarbaz(bar, baz):\n",
    "    if bar == 1:\n",
    "        return \"yay it's a one!\"\n",
    "    elif bar == 2:\n",
    "        return \"two\"\n",
    "    else:\n",
    "        return baz"
   ]
  },
  {
   "cell_type": "code",
   "execution_count": 27,
   "metadata": {
    "collapsed": true
   },
   "outputs": [],
   "source": [
    "class Logout(Exception):\n",
    "    pass\n",
    "\n",
    "def api_call(func, **kwargs):\n",
    "    access = '5b856d561154418cb6c4619f9816f3d0'\n",
    "    try:\n",
    "        if 'auth' in session:\n",
    "            result = func(access_token=session['auth'][access], **kwargs)\n",
    "        else:\n",
    "            result = func(**kwargs)\n",
    "    except InvalidAccessToken:\n",
    "        raise Logout\n",
    "    return result\n",
    "\n",
    "\n",
    "@app.errorhandler(Logout)\n",
    "def logout_handler(error):\n",
    "    try:\n",
    "        del session['auth']\n",
    "    except KeyError:\n",
    "        pass\n",
    "    return redirect(url_for('oauth_authorize'))\n",
    "\n",
    "\n",
    "def login_required(func):\n",
    "    @functools.wraps(func)\n",
    "    def wrapped(*args, **kwargs):\n",
    "        if 'auth' not in session:\n",
    "            return redirect(url_for('oauth_authorize'))\n",
    "        return func(*args, **kwargs)\n",
    "    return wrapped\n",
    "\n",
    "\n",
    "@app.route('/oauth/authorize/')\n",
    "def oauth_authorize():\n",
    "    return redirect('https://disqus.com/api/oauth/2.0/authorize/?%s' % (urllib.urlencode({\n",
    "        'client_id': disqus.public_key,\n",
    "        'scope': 'read,write',\n",
    "        'response_type': 'code',\n",
    "        'redirect_uri': url_for('oauth_callback', _external=True),\n",
    "    }),))\n",
    "\n",
    "\n",
    "@app.route('/oauth/callback/')\n",
    "def oauth_callback():\n",
    "    code = request.args.get('code')\n",
    "    error = request.args.get('error')\n",
    "    access = '5b856d561154418cb6c4619f9816f3d0'\n",
    "    \n",
    "    if error or not code:\n",
    "        # TODO: show error\n",
    "        return redirect('/')\n",
    "\n",
    "    req = urllib2.Request('https://disqus.com/api/oauth/2.0/' + access + '/', urllib.urlencode({\n",
    "        'grant_type': 'authorization_code',\n",
    "        'client_id': disqus.public_key,\n",
    "        'client_secret': disqus.secret_key,\n",
    "        'redirect_uri': url_for('oauth_callback', _external=True),\n",
    "        'code': code,\n",
    "    }))\n",
    "    \n",
    "    resp = urllib2.urlopen(req).read()\n",
    "\n",
    "    data = simplejson.loads(resp)\n",
    "\n",
    "    session['auth'] = data\n",
    "    session['username'] = data['username']\n",
    "    session.permanent = True\n",
    "\n",
    "    return redirect('/')\n",
    "\n"
   ]
  },
  {
   "cell_type": "code",
   "execution_count": 28,
   "metadata": {
    "collapsed": false
   },
   "outputs": [
    {
     "name": "stderr",
     "output_type": "stream",
     "text": [
      " * Running on http://127.0.0.1:5000/ (Press CTRL+C to quit)\n",
      " * Restarting with stat\n"
     ]
    },
    {
     "ename": "SystemExit",
     "evalue": "1",
     "output_type": "error",
     "traceback": [
      "An exception has occurred, use %tb to see the full traceback.\n",
      "\u001b[0;31mSystemExit\u001b[0m\u001b[0;31m:\u001b[0m 1\n"
     ]
    },
    {
     "name": "stderr",
     "output_type": "stream",
     "text": [
      "C:\\python3\\lib\\site-packages\\IPython\\core\\interactiveshell.py:2889: UserWarning: To exit: use 'exit', 'quit', or Ctrl-D.\n",
      "  warn(\"To exit: use 'exit', 'quit', or Ctrl-D.\", stacklevel=1)\n"
     ]
    }
   ],
   "source": [
    "if __name__ == \"__main__\":\n",
    "    app.config[\"DEBUG\"] = True\n",
    "    app.run()"
   ]
  },
  {
   "cell_type": "code",
   "execution_count": null,
   "metadata": {
    "collapsed": true
   },
   "outputs": [],
   "source": []
  }
 ],
 "metadata": {
  "anaconda-cloud": {},
  "kernelspec": {
   "display_name": "Python [conda root]",
   "language": "python",
   "name": "conda-root-py"
  },
  "language_info": {
   "codemirror_mode": {
    "name": "ipython",
    "version": 3
   },
   "file_extension": ".py",
   "mimetype": "text/x-python",
   "name": "python",
   "nbconvert_exporter": "python",
   "pygments_lexer": "ipython3",
   "version": "3.5.2"
  }
 },
 "nbformat": 4,
 "nbformat_minor": 1
}
